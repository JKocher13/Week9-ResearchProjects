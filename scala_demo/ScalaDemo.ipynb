{
 "cells": [
  {
   "cell_type": "code",
   "execution_count": 9,
   "metadata": {},
   "outputs": [
    {
     "data": {
      "text/plain": [
       "myName: String = James Kocher\n"
      ]
     },
     "execution_count": 9,
     "metadata": {},
     "output_type": "execute_result"
    }
   ],
   "source": [
    "var myName = \"James Kocher\"\n"
   ]
  },
  {
   "cell_type": "code",
   "execution_count": 10,
   "metadata": {
    "scrolled": true
   },
   "outputs": [
    {
     "data": {
      "text/plain": [
       "res1: Int = -455\n"
      ]
     },
     "execution_count": 10,
     "metadata": {},
     "output_type": "execute_result"
    }
   ],
   "source": [
    "5+13/6-14*33"
   ]
  },
  {
   "cell_type": "code",
   "execution_count": 11,
   "metadata": {},
   "outputs": [
    {
     "data": {
      "text/plain": [
       "integ: Int = 1\n",
       "vari: Int = 1\n"
      ]
     },
     "execution_count": 11,
     "metadata": {},
     "output_type": "execute_result"
    }
   ],
   "source": [
    "val integ = 1\n",
    "var vari = 1"
   ]
  },
  {
   "cell_type": "code",
   "execution_count": 13,
   "metadata": {},
   "outputs": [
    {
     "ename": "<console>",
     "evalue": "27: error: reassignment to val",
     "output_type": "error",
     "traceback": [
      "<console>:27: error: reassignment to val",
      "       integ = integ + 1",
      "             ^",
      ""
     ]
    }
   ],
   "source": [
    "//integ = integ + 1\n",
    "vari = vari + 1"
   ]
  },
  {
   "cell_type": "code",
   "execution_count": 4,
   "metadata": {},
   "outputs": [
    {
     "ename": "<console>",
     "evalue": " error: incomplete input",
     "output_type": "error",
     "traceback": [
      "<console>: error: incomplete input"
     ]
    }
   ],
   "source": [
    "integ."
   ]
  },
  {
   "cell_type": "code",
   "execution_count": 14,
   "metadata": {},
   "outputs": [
    {
     "data": {
      "text/plain": [
       "res2: String = 5 + 4 = 9\n"
      ]
     },
     "execution_count": 14,
     "metadata": {},
     "output_type": "execute_result"
    }
   ],
   "source": [
    "\"5 + 4 = \" + (5+4)"
   ]
  },
  {
   "cell_type": "code",
   "execution_count": 15,
   "metadata": {},
   "outputs": [
    {
     "data": {
      "text/plain": [
       "import scala.math._\n"
      ]
     },
     "execution_count": 15,
     "metadata": {},
     "output_type": "execute_result"
    }
   ],
   "source": [
    "import scala.math._"
   ]
  },
  {
   "cell_type": "code",
   "execution_count": 16,
   "metadata": {},
   "outputs": [
    {
     "data": {
      "text/plain": [
       "res3: Double = 3.141592653589793\n"
      ]
     },
     "execution_count": 16,
     "metadata": {},
     "output_type": "execute_result"
    }
   ],
   "source": [
    "Pi"
   ]
  },
  {
   "cell_type": "code",
   "execution_count": 17,
   "metadata": {},
   "outputs": [
    {
     "data": {
      "text/plain": [
       "res4: Boolean = true\n"
      ]
     },
     "execution_count": 17,
     "metadata": {},
     "output_type": "execute_result"
    }
   ],
   "source": [
    "myName == \"James Kocher\""
   ]
  },
  {
   "cell_type": "code",
   "execution_count": 18,
   "metadata": {},
   "outputs": [
    {
     "data": {
      "text/plain": [
       "res5: Boolean = true\n"
      ]
     },
     "execution_count": 18,
     "metadata": {},
     "output_type": "execute_result"
    }
   ],
   "source": [
    "res4"
   ]
  },
  {
   "cell_type": "code",
   "execution_count": 19,
   "metadata": {},
   "outputs": [
    {
     "data": {
      "text/plain": [
       "myAge: Int = 25\n"
      ]
     },
     "execution_count": 19,
     "metadata": {},
     "output_type": "execute_result"
    }
   ],
   "source": [
    "val myAge = 25 "
   ]
  },
  {
   "cell_type": "code",
   "execution_count": 20,
   "metadata": {},
   "outputs": [
    {
     "data": {
      "text/plain": [
       "canVote: String = yes\n"
      ]
     },
     "execution_count": 20,
     "metadata": {},
     "output_type": "execute_result"
    }
   ],
   "source": [
    "val canVote = if(myAge > 18) \"yes\" else \"no\""
   ]
  },
  {
   "cell_type": "code",
   "execution_count": 21,
   "metadata": {},
   "outputs": [
    {
     "name": "stdout",
     "output_type": "stream",
     "text": [
      "Hello James Kocher, you are 25, and your name is 12 characters long\n"
     ]
    }
   ],
   "source": [
    "println(f\"Hello $myName, you are $myAge, and your name is \" + myName.length + \" characters long\")\n"
   ]
  },
  {
   "cell_type": "code",
   "execution_count": null,
   "metadata": {},
   "outputs": [],
   "source": [
    "//Show program written to display\n",
    "/* functions\n",
    "if\n",
    "user input\n",
    "for loops\n",
    "*/"
   ]
  },
  {
   "cell_type": "code",
   "execution_count": 22,
   "metadata": {},
   "outputs": [
    {
     "data": {
      "text/plain": [
       "oneToTwenty: Array[Int] = Array(0, 0, 0, 0, 0, 0, 0, 0, 0, 0, 0, 0, 0, 0, 0, 0, 0, 0, 0, 0)\n"
      ]
     },
     "execution_count": 22,
     "metadata": {},
     "output_type": "execute_result"
    }
   ],
   "source": [
    "val oneToTwenty = new Array[Int](20)"
   ]
  },
  {
   "cell_type": "code",
   "execution_count": 23,
   "metadata": {},
   "outputs": [],
   "source": [
    "for (x <- 0 to (oneToTwenty.length-1)){\n",
    "    oneToTwenty(x) = x +1\n",
    "}"
   ]
  },
  {
   "cell_type": "code",
   "execution_count": 24,
   "metadata": {},
   "outputs": [
    {
     "data": {
      "text/plain": [
       "res8: Array[Int] = Array(1, 2, 3, 4, 5, 6, 7, 8, 9, 10, 11, 12, 13, 14, 15, 16, 17, 18, 19, 20)\n"
      ]
     },
     "execution_count": 24,
     "metadata": {},
     "output_type": "execute_result"
    }
   ],
   "source": [
    "oneToTwenty"
   ]
  },
  {
   "cell_type": "code",
   "execution_count": 36,
   "metadata": {
    "scrolled": true
   },
   "outputs": [
    {
     "name": "stdout",
     "output_type": "stream",
     "text": [
      "1\n",
      "2\n",
      "3\n",
      "4\n",
      "5\n",
      "6\n",
      "7\n",
      "8\n",
      "9\n",
      "10\n",
      "11\n",
      "12\n",
      "13\n",
      "14\n",
      "15\n",
      "16\n",
      "17\n",
      "18\n",
      "19\n",
      "20\n"
     ]
    }
   ],
   "source": [
    "oneToTwenty.foreach(println)"
   ]
  },
  {
   "cell_type": "code",
   "execution_count": 25,
   "metadata": {},
   "outputs": [
    {
     "name": "stdout",
     "output_type": "stream",
     "text": [
      "sum = 210 , max = 20 , min = 1"
     ]
    }
   ],
   "source": [
    "print(\"sum = \" +oneToTwenty.sum+ \" , \")\n",
    "print(\"max = \"+ oneToTwenty.max+\" , \")\n",
    "print(\"min = \"+ oneToTwenty.min)"
   ]
  },
  {
   "cell_type": "code",
   "execution_count": 26,
   "metadata": {},
   "outputs": [
    {
     "data": {
      "text/plain": [
       "sortedNumbs: Array[Int] = Array(20, 19, 18, 17, 16, 15, 14, 13, 12, 11, 10, 9, 8, 7, 6, 5, 4, 3, 2, 1)\n"
      ]
     },
     "execution_count": 26,
     "metadata": {},
     "output_type": "execute_result"
    }
   ],
   "source": [
    "val sortedNumbs = oneToTwenty.sortWith(_>_)"
   ]
  },
  {
   "cell_type": "code",
   "execution_count": 14,
   "metadata": {},
   "outputs": [
    {
     "data": {
      "text/plain": [
       "multTable: Array[Array[Int]] = Array(Array(0, 0, 0, 0, 0, 0, 0, 0, 0, 0), Array(0, 0, 0, 0, 0, 0, 0, 0, 0, 0), Array(0, 0, 0, 0, 0, 0, 0, 0, 0, 0), Array(0, 0, 0, 0, 0, 0, 0, 0, 0, 0), Array(0, 0, 0, 0, 0, 0, 0, 0, 0, 0), Array(0, 0, 0, 0, 0, 0, 0, 0, 0, 0), Array(0, 0, 0, 0, 0, 0, 0, 0, 0, 0), Array(0, 0, 0, 0, 0, 0, 0, 0, 0, 0), Array(0, 0, 0, 0, 0, 0, 0, 0, 0, 0), Array(0, 0, 0, 0, 0, 0, 0, 0, 0, 0))\n"
      ]
     },
     "execution_count": 14,
     "metadata": {},
     "output_type": "execute_result"
    }
   ],
   "source": [
    "var multTable = Array.ofDim[Int](10,10)"
   ]
  },
  {
   "cell_type": "code",
   "execution_count": 15,
   "metadata": {},
   "outputs": [
    {
     "name": "stdout",
     "output_type": "stream",
     "text": [
      "0 : 0 = 0 \n",
      "0 : 1 = 0 \n",
      "0 : 2 = 0 \n",
      "0 : 3 = 0 \n",
      "0 : 4 = 0 \n",
      "0 : 5 = 0 \n",
      "0 : 6 = 0 \n",
      "0 : 7 = 0 \n",
      "0 : 8 = 0 \n",
      "0 : 9 = 0 \n",
      "1 : 0 = 0 \n",
      "1 : 1 = 1 \n",
      "1 : 2 = 2 \n",
      "1 : 3 = 3 \n",
      "1 : 4 = 4 \n",
      "1 : 5 = 5 \n",
      "1 : 6 = 6 \n",
      "1 : 7 = 7 \n",
      "1 : 8 = 8 \n",
      "1 : 9 = 9 \n",
      "2 : 0 = 0 \n",
      "2 : 1 = 2 \n",
      "2 : 2 = 4 \n",
      "2 : 3 = 6 \n",
      "2 : 4 = 8 \n",
      "2 : 5 = 10 \n",
      "2 : 6 = 12 \n",
      "2 : 7 = 14 \n",
      "2 : 8 = 16 \n",
      "2 : 9 = 18 \n",
      "3 : 0 = 0 \n",
      "3 : 1 = 3 \n",
      "3 : 2 = 6 \n",
      "3 : 3 = 9 \n",
      "3 : 4 = 12 \n",
      "3 : 5 = 15 \n",
      "3 : 6 = 18 \n",
      "3 : 7 = 21 \n",
      "3 : 8 = 24 \n",
      "3 : 9 = 27 \n",
      "4 : 0 = 0 \n",
      "4 : 1 = 4 \n",
      "4 : 2 = 8 \n",
      "4 : 3 = 12 \n",
      "4 : 4 = 16 \n",
      "4 : 5 = 20 \n",
      "4 : 6 = 24 \n",
      "4 : 7 = 28 \n",
      "4 : 8 = 32 \n",
      "4 : 9 = 36 \n",
      "5 : 0 = 0 \n",
      "5 : 1 = 5 \n",
      "5 : 2 = 10 \n",
      "5 : 3 = 15 \n",
      "5 : 4 = 20 \n",
      "5 : 5 = 25 \n",
      "5 : 6 = 30 \n",
      "5 : 7 = 35 \n",
      "5 : 8 = 40 \n",
      "5 : 9 = 45 \n",
      "6 : 0 = 0 \n",
      "6 : 1 = 6 \n",
      "6 : 2 = 12 \n",
      "6 : 3 = 18 \n",
      "6 : 4 = 24 \n",
      "6 : 5 = 30 \n",
      "6 : 6 = 36 \n",
      "6 : 7 = 42 \n",
      "6 : 8 = 48 \n",
      "6 : 9 = 54 \n",
      "7 : 0 = 0 \n",
      "7 : 1 = 7 \n",
      "7 : 2 = 14 \n",
      "7 : 3 = 21 \n",
      "7 : 4 = 28 \n",
      "7 : 5 = 35 \n",
      "7 : 6 = 42 \n",
      "7 : 7 = 49 \n",
      "7 : 8 = 56 \n",
      "7 : 9 = 63 \n",
      "8 : 0 = 0 \n",
      "8 : 1 = 8 \n",
      "8 : 2 = 16 \n",
      "8 : 3 = 24 \n",
      "8 : 4 = 32 \n",
      "8 : 5 = 40 \n",
      "8 : 6 = 48 \n",
      "8 : 7 = 56 \n",
      "8 : 8 = 64 \n",
      "8 : 9 = 72 \n",
      "9 : 0 = 0 \n",
      "9 : 1 = 9 \n",
      "9 : 2 = 18 \n",
      "9 : 3 = 27 \n",
      "9 : 4 = 36 \n",
      "9 : 5 = 45 \n",
      "9 : 6 = 54 \n",
      "9 : 7 = 63 \n",
      "9 : 8 = 72 \n",
      "9 : 9 = 81 \n"
     ]
    }
   ],
   "source": [
    "for (i <- 0 to 9){\n",
    "\tfor (j<- 0 to 9){\n",
    "\t\tmultTable(i)(j) = i * j}}\n",
    "\n",
    "for (i <- 0 to 9){\n",
    "\tfor (j<- 0 to 9){\n",
    "\t\tprintf(\"%d : %d = %d \\n\",i,j,multTable(i)(j))}}\n",
    "        \n"
   ]
  },
  {
   "cell_type": "code",
   "execution_count": 41,
   "metadata": {},
   "outputs": [
    {
     "data": {
      "text/plain": [
       "students: scala.collection.mutable.Map[Int,String] = Map(8 -> Preeti, 2 -> Apoorva, 5 -> JT, 4 -> James, 7 -> Norton, 1 -> Amit, 9 -> Rich, 3 -> Chris, 6 -> Maleda)\n"
      ]
     },
     "execution_count": 41,
     "metadata": {},
     "output_type": "execute_result"
    }
   ],
   "source": [
    "val students = collection.mutable.Map(1 -> \"Amit\", 2 -> \"Apoorva\", 3 -> \"Chris\", 4 -> \"James\", 5 -> \"JT\", 6 -> \"Maleda\", 7 -> \"Norton\", 8 -> \"Preeti\", 9 -> \"Rich\")"
   ]
  },
  {
   "cell_type": "code",
   "execution_count": 44,
   "metadata": {
    "scrolled": false
   },
   "outputs": [
    {
     "name": "stdout",
     "output_type": "stream",
     "text": [
      "8 : Preeti\n",
      "2 : Apoorva\n",
      "5 : JT\n",
      "4 : James\n",
      "7 : Norton\n",
      "1 : Amit\n",
      "9 : Rich\n",
      "3 : Chris\n",
      "6 : Maleda\n"
     ]
    }
   ],
   "source": [
    "for ((k,v) <- students){\n",
    "    printf(\"%d : %s\\n\", k, v)\n",
    "}"
   ]
  },
  {
   "cell_type": "code",
   "execution_count": 28,
   "metadata": {},
   "outputs": [
    {
     "data": {
      "text/plain": [
       "defined class Bird\n"
      ]
     },
     "execution_count": 28,
     "metadata": {},
     "output_type": "execute_result"
    }
   ],
   "source": [
    "class Bird (var name: String, var home : String){\n",
    "    this.name = name\n",
    "    this.home = home\n",
    "\n",
    "}"
   ]
  },
  {
   "cell_type": "code",
   "execution_count": 29,
   "metadata": {},
   "outputs": [
    {
     "data": {
      "text/plain": [
       "Heron: Bird = Bird@3e176cff\n"
      ]
     },
     "execution_count": 29,
     "metadata": {},
     "output_type": "execute_result"
    }
   ],
   "source": [
    "val Heron = new Bird(\"Heron\", \"Everywhere\")"
   ]
  },
  {
   "cell_type": "code",
   "execution_count": 30,
   "metadata": {},
   "outputs": [
    {
     "data": {
      "text/plain": [
       "res10: String = Heron\n"
      ]
     },
     "execution_count": 30,
     "metadata": {},
     "output_type": "execute_result"
    }
   ],
   "source": [
    "Heron.name"
   ]
  },
  {
   "cell_type": "code",
   "execution_count": 31,
   "metadata": {},
   "outputs": [
    {
     "data": {
      "text/plain": [
       "res11: String = Everywhere\n"
      ]
     },
     "execution_count": 31,
     "metadata": {},
     "output_type": "execute_result"
    }
   ],
   "source": [
    "Heron.home"
   ]
  },
  {
   "cell_type": "code",
   "execution_count": null,
   "metadata": {},
   "outputs": [],
   "source": []
  },
  {
   "cell_type": "code",
   "execution_count": null,
   "metadata": {},
   "outputs": [],
   "source": []
  }
 ],
 "metadata": {
  "kernelspec": {
   "display_name": "spylon-kernel",
   "language": "scala",
   "name": "spylon-kernel"
  },
  "language_info": {
   "codemirror_mode": "text/x-scala",
   "file_extension": ".scala",
   "help_links": [
    {
     "text": "MetaKernel Magics",
     "url": "https://metakernel.readthedocs.io/en/latest/source/README.html"
    }
   ],
   "mimetype": "text/x-scala",
   "name": "scala",
   "pygments_lexer": "scala",
   "version": "0.4.1"
  }
 },
 "nbformat": 4,
 "nbformat_minor": 2
}
