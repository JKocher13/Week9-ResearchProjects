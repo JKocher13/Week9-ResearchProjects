{
 "cells": [
  {
   "cell_type": "code",
   "execution_count": 1,
   "metadata": {},
   "outputs": [
    {
     "data": {
      "text/plain": [
       "Intitializing Scala interpreter ..."
      ]
     },
     "metadata": {},
     "output_type": "display_data"
    },
    {
     "data": {
      "text/plain": [
       "Spark Web UI available at http://192.168.4.23:4040\n",
       "SparkContext available as 'sc' (version = 2.4.5, master = local[*], app id = local-1588524401287)\n",
       "SparkSession available as 'spark'\n"
      ]
     },
     "metadata": {},
     "output_type": "display_data"
    },
    {
     "data": {
      "text/plain": [
       "myName: String = James Kocher\n"
      ]
     },
     "execution_count": 1,
     "metadata": {},
     "output_type": "execute_result"
    }
   ],
   "source": [
    "var myName = \"James Kocher\"\n"
   ]
  },
  {
   "cell_type": "code",
   "execution_count": 2,
   "metadata": {},
   "outputs": [
    {
     "data": {
      "text/plain": [
       "res0: Int = -455\n"
      ]
     },
     "execution_count": 2,
     "metadata": {},
     "output_type": "execute_result"
    }
   ],
   "source": [
    "5+13/6-14*33"
   ]
  },
  {
   "cell_type": "code",
   "execution_count": 3,
   "metadata": {},
   "outputs": [
    {
     "data": {
      "text/plain": [
       "integ: Int = 1\n"
      ]
     },
     "execution_count": 3,
     "metadata": {},
     "output_type": "execute_result"
    }
   ],
   "source": [
    "val integ = 1"
   ]
  },
  {
   "cell_type": "code",
   "execution_count": 4,
   "metadata": {},
   "outputs": [
    {
     "ename": "<console>",
     "evalue": " error: incomplete input",
     "output_type": "error",
     "traceback": [
      "<console>: error: incomplete input"
     ]
    }
   ],
   "source": [
    "integ."
   ]
  },
  {
   "cell_type": "code",
   "execution_count": 5,
   "metadata": {},
   "outputs": [
    {
     "data": {
      "text/plain": [
       "res1: String = 5 + 4 = 9\n"
      ]
     },
     "execution_count": 5,
     "metadata": {},
     "output_type": "execute_result"
    }
   ],
   "source": [
    "\"5 + 4 = \" + (5+4)"
   ]
  },
  {
   "cell_type": "code",
   "execution_count": 6,
   "metadata": {},
   "outputs": [
    {
     "data": {
      "text/plain": [
       "import scala.math._\n"
      ]
     },
     "execution_count": 6,
     "metadata": {},
     "output_type": "execute_result"
    }
   ],
   "source": [
    "import scala.math._"
   ]
  },
  {
   "cell_type": "code",
   "execution_count": 8,
   "metadata": {},
   "outputs": [
    {
     "data": {
      "text/plain": [
       "res2: Double = 3.141592653589793\n"
      ]
     },
     "execution_count": 8,
     "metadata": {},
     "output_type": "execute_result"
    }
   ],
   "source": [
    "Pi"
   ]
  },
  {
   "cell_type": "code",
   "execution_count": 9,
   "metadata": {},
   "outputs": [
    {
     "data": {
      "text/plain": [
       "res3: Boolean = true\n"
      ]
     },
     "execution_count": 9,
     "metadata": {},
     "output_type": "execute_result"
    }
   ],
   "source": [
    "myName == \"James Kocher\""
   ]
  },
  {
   "cell_type": "code",
   "execution_count": 10,
   "metadata": {},
   "outputs": [
    {
     "data": {
      "text/plain": [
       "res4: Boolean = true\n"
      ]
     },
     "execution_count": 10,
     "metadata": {},
     "output_type": "execute_result"
    }
   ],
   "source": [
    "res3"
   ]
  },
  {
   "cell_type": "code",
   "execution_count": 11,
   "metadata": {},
   "outputs": [
    {
     "data": {
      "text/plain": [
       "myAge: Int = 25\n"
      ]
     },
     "execution_count": 11,
     "metadata": {},
     "output_type": "execute_result"
    }
   ],
   "source": [
    "val myAge = 25 "
   ]
  },
  {
   "cell_type": "code",
   "execution_count": 12,
   "metadata": {},
   "outputs": [
    {
     "data": {
      "text/plain": [
       "canVote: String = yes\n"
      ]
     },
     "execution_count": 12,
     "metadata": {},
     "output_type": "execute_result"
    }
   ],
   "source": [
    "val canVote = if(myAge > 18) \"yes\" else \"no\""
   ]
  },
  {
   "cell_type": "code",
   "execution_count": 13,
   "metadata": {},
   "outputs": [
    {
     "name": "stdout",
     "output_type": "stream",
     "text": [
      "Hello James Kocher, you are 25, and your name is 12 characters long\n"
     ]
    }
   ],
   "source": [
    "println(f\"Hello $myName, you are $myAge, and your name is \" + myName.length + \" characters long\")\n"
   ]
  },
  {
   "cell_type": "code",
   "execution_count": null,
   "metadata": {},
   "outputs": [],
   "source": [
    "//Show program written to display\n",
    "/* functions\n",
    "if\n",
    "user input\n",
    "for loops\n",
    "*/"
   ]
  },
  {
   "cell_type": "code",
   "execution_count": 14,
   "metadata": {},
   "outputs": [
    {
     "data": {
      "text/plain": [
       "multTable: Array[Array[Int]] = Array(Array(0, 0, 0, 0, 0, 0, 0, 0, 0, 0), Array(0, 0, 0, 0, 0, 0, 0, 0, 0, 0), Array(0, 0, 0, 0, 0, 0, 0, 0, 0, 0), Array(0, 0, 0, 0, 0, 0, 0, 0, 0, 0), Array(0, 0, 0, 0, 0, 0, 0, 0, 0, 0), Array(0, 0, 0, 0, 0, 0, 0, 0, 0, 0), Array(0, 0, 0, 0, 0, 0, 0, 0, 0, 0), Array(0, 0, 0, 0, 0, 0, 0, 0, 0, 0), Array(0, 0, 0, 0, 0, 0, 0, 0, 0, 0), Array(0, 0, 0, 0, 0, 0, 0, 0, 0, 0))\n"
      ]
     },
     "execution_count": 14,
     "metadata": {},
     "output_type": "execute_result"
    }
   ],
   "source": [
    "var multTable = Array.ofDim[Int](10,10)"
   ]
  },
  {
   "cell_type": "code",
   "execution_count": 15,
   "metadata": {},
   "outputs": [
    {
     "name": "stdout",
     "output_type": "stream",
     "text": [
      "0 : 0 = 0 \n",
      "0 : 1 = 0 \n",
      "0 : 2 = 0 \n",
      "0 : 3 = 0 \n",
      "0 : 4 = 0 \n",
      "0 : 5 = 0 \n",
      "0 : 6 = 0 \n",
      "0 : 7 = 0 \n",
      "0 : 8 = 0 \n",
      "0 : 9 = 0 \n",
      "1 : 0 = 0 \n",
      "1 : 1 = 1 \n",
      "1 : 2 = 2 \n",
      "1 : 3 = 3 \n",
      "1 : 4 = 4 \n",
      "1 : 5 = 5 \n",
      "1 : 6 = 6 \n",
      "1 : 7 = 7 \n",
      "1 : 8 = 8 \n",
      "1 : 9 = 9 \n",
      "2 : 0 = 0 \n",
      "2 : 1 = 2 \n",
      "2 : 2 = 4 \n",
      "2 : 3 = 6 \n",
      "2 : 4 = 8 \n",
      "2 : 5 = 10 \n",
      "2 : 6 = 12 \n",
      "2 : 7 = 14 \n",
      "2 : 8 = 16 \n",
      "2 : 9 = 18 \n",
      "3 : 0 = 0 \n",
      "3 : 1 = 3 \n",
      "3 : 2 = 6 \n",
      "3 : 3 = 9 \n",
      "3 : 4 = 12 \n",
      "3 : 5 = 15 \n",
      "3 : 6 = 18 \n",
      "3 : 7 = 21 \n",
      "3 : 8 = 24 \n",
      "3 : 9 = 27 \n",
      "4 : 0 = 0 \n",
      "4 : 1 = 4 \n",
      "4 : 2 = 8 \n",
      "4 : 3 = 12 \n",
      "4 : 4 = 16 \n",
      "4 : 5 = 20 \n",
      "4 : 6 = 24 \n",
      "4 : 7 = 28 \n",
      "4 : 8 = 32 \n",
      "4 : 9 = 36 \n",
      "5 : 0 = 0 \n",
      "5 : 1 = 5 \n",
      "5 : 2 = 10 \n",
      "5 : 3 = 15 \n",
      "5 : 4 = 20 \n",
      "5 : 5 = 25 \n",
      "5 : 6 = 30 \n",
      "5 : 7 = 35 \n",
      "5 : 8 = 40 \n",
      "5 : 9 = 45 \n",
      "6 : 0 = 0 \n",
      "6 : 1 = 6 \n",
      "6 : 2 = 12 \n",
      "6 : 3 = 18 \n",
      "6 : 4 = 24 \n",
      "6 : 5 = 30 \n",
      "6 : 6 = 36 \n",
      "6 : 7 = 42 \n",
      "6 : 8 = 48 \n",
      "6 : 9 = 54 \n",
      "7 : 0 = 0 \n",
      "7 : 1 = 7 \n",
      "7 : 2 = 14 \n",
      "7 : 3 = 21 \n",
      "7 : 4 = 28 \n",
      "7 : 5 = 35 \n",
      "7 : 6 = 42 \n",
      "7 : 7 = 49 \n",
      "7 : 8 = 56 \n",
      "7 : 9 = 63 \n",
      "8 : 0 = 0 \n",
      "8 : 1 = 8 \n",
      "8 : 2 = 16 \n",
      "8 : 3 = 24 \n",
      "8 : 4 = 32 \n",
      "8 : 5 = 40 \n",
      "8 : 6 = 48 \n",
      "8 : 7 = 56 \n",
      "8 : 8 = 64 \n",
      "8 : 9 = 72 \n",
      "9 : 0 = 0 \n",
      "9 : 1 = 9 \n",
      "9 : 2 = 18 \n",
      "9 : 3 = 27 \n",
      "9 : 4 = 36 \n",
      "9 : 5 = 45 \n",
      "9 : 6 = 54 \n",
      "9 : 7 = 63 \n",
      "9 : 8 = 72 \n",
      "9 : 9 = 81 \n"
     ]
    }
   ],
   "source": [
    "for (i <- 0 to 9){\n",
    "\tfor (j<- 0 to 9){\n",
    "\t\tmultTable(i)(j) = i * j}}\n",
    "\n",
    "for (i <- 0 to 9){\n",
    "\tfor (j<- 0 to 9){\n",
    "\t\tprintf(\"%d : %d = %d \\n\",i,j,multTable(i)(j))}}\n",
    "        \n"
   ]
  },
  {
   "cell_type": "code",
   "execution_count": null,
   "metadata": {},
   "outputs": [],
   "source": []
  }
 ],
 "metadata": {
  "kernelspec": {
   "display_name": "spylon-kernel",
   "language": "scala",
   "name": "spylon-kernel"
  },
  "language_info": {
   "codemirror_mode": "text/x-scala",
   "file_extension": ".scala",
   "help_links": [
    {
     "text": "MetaKernel Magics",
     "url": "https://metakernel.readthedocs.io/en/latest/source/README.html"
    }
   ],
   "mimetype": "text/x-scala",
   "name": "scala",
   "pygments_lexer": "scala",
   "version": "0.4.1"
  }
 },
 "nbformat": 4,
 "nbformat_minor": 2
}
